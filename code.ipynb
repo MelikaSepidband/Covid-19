{
 "cells": [
  {
   "cell_type": "markdown",
   "id": "4af96166",
   "metadata": {},
   "source": [
    "### Load the data"
   ]
  },
  {
   "cell_type": "code",
   "execution_count": 1,
   "id": "62d6aaf3",
   "metadata": {},
   "outputs": [
    {
     "data": {
      "text/html": [
       "<div>\n",
       "<style scoped>\n",
       "    .dataframe tbody tr th:only-of-type {\n",
       "        vertical-align: middle;\n",
       "    }\n",
       "\n",
       "    .dataframe tbody tr th {\n",
       "        vertical-align: top;\n",
       "    }\n",
       "\n",
       "    .dataframe thead th {\n",
       "        text-align: right;\n",
       "    }\n",
       "</style>\n",
       "<table border=\"1\" class=\"dataframe\">\n",
       "  <thead>\n",
       "    <tr style=\"text-align: right;\">\n",
       "      <th></th>\n",
       "      <th>id</th>\n",
       "      <th>tweet</th>\n",
       "      <th>label</th>\n",
       "    </tr>\n",
       "  </thead>\n",
       "  <tbody>\n",
       "    <tr>\n",
       "      <th>0</th>\n",
       "      <td>1</td>\n",
       "      <td>The CDC currently reports 99031 deaths. In gen...</td>\n",
       "      <td>real</td>\n",
       "    </tr>\n",
       "    <tr>\n",
       "      <th>1</th>\n",
       "      <td>2</td>\n",
       "      <td>States reported 1121 deaths a small rise from ...</td>\n",
       "      <td>real</td>\n",
       "    </tr>\n",
       "    <tr>\n",
       "      <th>2</th>\n",
       "      <td>3</td>\n",
       "      <td>Politically Correct Woman (Almost) Uses Pandem...</td>\n",
       "      <td>fake</td>\n",
       "    </tr>\n",
       "    <tr>\n",
       "      <th>3</th>\n",
       "      <td>4</td>\n",
       "      <td>#IndiaFightsCorona: We have 1524 #COVID testin...</td>\n",
       "      <td>real</td>\n",
       "    </tr>\n",
       "    <tr>\n",
       "      <th>4</th>\n",
       "      <td>5</td>\n",
       "      <td>Populous states can generate large case counts...</td>\n",
       "      <td>real</td>\n",
       "    </tr>\n",
       "  </tbody>\n",
       "</table>\n",
       "</div>"
      ],
      "text/plain": [
       "   id                                              tweet label\n",
       "0   1  The CDC currently reports 99031 deaths. In gen...  real\n",
       "1   2  States reported 1121 deaths a small rise from ...  real\n",
       "2   3  Politically Correct Woman (Almost) Uses Pandem...  fake\n",
       "3   4  #IndiaFightsCorona: We have 1524 #COVID testin...  real\n",
       "4   5  Populous states can generate large case counts...  real"
      ]
     },
     "execution_count": 1,
     "metadata": {},
     "output_type": "execute_result"
    }
   ],
   "source": [
    "import pandas as pd\n",
    "train = pd.read_csv('Constraint_Train.csv')\n",
    "val = pd.read_csv('Constraint_Val.csv')\n",
    "test_with_labels=pd.read_csv('english_test_with_labels.csv')\n",
    "train.head(5)"
   ]
  },
  {
   "cell_type": "markdown",
   "id": "a42920c5",
   "metadata": {},
   "source": [
    "### merge train and validation"
   ]
  },
  {
   "cell_type": "code",
   "execution_count": 17,
   "id": "40f6f34c",
   "metadata": {},
   "outputs": [
    {
     "data": {
      "text/html": [
       "<div>\n",
       "<style scoped>\n",
       "    .dataframe tbody tr th:only-of-type {\n",
       "        vertical-align: middle;\n",
       "    }\n",
       "\n",
       "    .dataframe tbody tr th {\n",
       "        vertical-align: top;\n",
       "    }\n",
       "\n",
       "    .dataframe thead th {\n",
       "        text-align: right;\n",
       "    }\n",
       "</style>\n",
       "<table border=\"1\" class=\"dataframe\">\n",
       "  <thead>\n",
       "    <tr style=\"text-align: right;\">\n",
       "      <th></th>\n",
       "      <th>id</th>\n",
       "      <th>tweet</th>\n",
       "      <th>label</th>\n",
       "    </tr>\n",
       "  </thead>\n",
       "  <tbody>\n",
       "    <tr>\n",
       "      <th>0</th>\n",
       "      <td>1</td>\n",
       "      <td>The CDC currently reports 99031 deaths. In gen...</td>\n",
       "      <td>real</td>\n",
       "    </tr>\n",
       "    <tr>\n",
       "      <th>1</th>\n",
       "      <td>2</td>\n",
       "      <td>States reported 1121 deaths a small rise from ...</td>\n",
       "      <td>real</td>\n",
       "    </tr>\n",
       "    <tr>\n",
       "      <th>2</th>\n",
       "      <td>3</td>\n",
       "      <td>Politically Correct Woman (Almost) Uses Pandem...</td>\n",
       "      <td>fake</td>\n",
       "    </tr>\n",
       "    <tr>\n",
       "      <th>3</th>\n",
       "      <td>4</td>\n",
       "      <td>#IndiaFightsCorona: We have 1524 #COVID testin...</td>\n",
       "      <td>real</td>\n",
       "    </tr>\n",
       "    <tr>\n",
       "      <th>4</th>\n",
       "      <td>5</td>\n",
       "      <td>Populous states can generate large case counts...</td>\n",
       "      <td>real</td>\n",
       "    </tr>\n",
       "  </tbody>\n",
       "</table>\n",
       "</div>"
      ],
      "text/plain": [
       "   id                                              tweet label\n",
       "0   1  The CDC currently reports 99031 deaths. In gen...  real\n",
       "1   2  States reported 1121 deaths a small rise from ...  real\n",
       "2   3  Politically Correct Woman (Almost) Uses Pandem...  fake\n",
       "3   4  #IndiaFightsCorona: We have 1524 #COVID testin...  real\n",
       "4   5  Populous states can generate large case counts...  real"
      ]
     },
     "execution_count": 17,
     "metadata": {},
     "output_type": "execute_result"
    }
   ],
   "source": [
    "train=pd.merge(train,val,how='outer')\n",
    "train.head(5)"
   ]
  },
  {
   "cell_type": "markdown",
   "id": "2e73b09d",
   "metadata": {},
   "source": [
    "### function for cleaning text"
   ]
  },
  {
   "cell_type": "code",
   "execution_count": 18,
   "id": "737cc959",
   "metadata": {},
   "outputs": [],
   "source": [
    "import nltk\n",
    "import re\n",
    "from nltk.corpus import stopwords\n",
    "stop_words = set(stopwords.words(\"english\"))\n",
    "def clean_text(string):\n",
    "    tx = string.lower()\n",
    "    tx = re.sub(r\"http(\\S)+\",' ',tx)    \n",
    "    tx = re.sub(r\"www(\\S)+\",' ',tx)\n",
    "    tx = re.sub(r\"&\",' and ',tx)   \n",
    "    tx = re.sub(r\"[^0-9a-zA-Z]+\",' ',tx)\n",
    "    tx = tx.split()\n",
    "    L=[]\n",
    "    for w in tx:\n",
    "        if not w in stop_words:\n",
    "            L.append(w)\n",
    "    tx=L\n",
    "    tx = \" \".join(tx)\n",
    "    return tx"
   ]
  },
  {
   "cell_type": "markdown",
   "id": "d9e3ef5e",
   "metadata": {},
   "source": [
    "### an example for clean_text function"
   ]
  },
  {
   "cell_type": "code",
   "execution_count": 19,
   "id": "232e3fb8",
   "metadata": {},
   "outputs": [
    {
     "data": {
      "text/plain": [
       "'states reported 1121 deaths small rise last tuesday southern states reported 640 deaths'"
      ]
     },
     "execution_count": 19,
     "metadata": {},
     "output_type": "execute_result"
    }
   ],
   "source": [
    "string='States reported 1121 deaths a small rise from last Tuesday. Southern states reported 640 of those deaths. https://t.co/YASGRTT4ux'\n",
    "clean_text(string)\n"
   ]
  },
  {
   "cell_type": "markdown",
   "id": "919fa54e",
   "metadata": {},
   "source": [
    "### Cleaning the text"
   ]
  },
  {
   "cell_type": "code",
   "execution_count": 20,
   "id": "b03f1158",
   "metadata": {},
   "outputs": [],
   "source": [
    "train[\"tweet\"] = train[\"tweet\"].map(lambda x: clean_text(x))\n",
    "test_with_labels[\"tweet\"] = test_with_labels[\"tweet\"].map(lambda x: clean_text(x))"
   ]
  },
  {
   "cell_type": "markdown",
   "id": "2678005f",
   "metadata": {},
   "source": [
    "### 5 row of train after cleaning"
   ]
  },
  {
   "cell_type": "code",
   "execution_count": 21,
   "id": "b8eb2fd1",
   "metadata": {},
   "outputs": [
    {
     "data": {
      "text/html": [
       "<div>\n",
       "<style scoped>\n",
       "    .dataframe tbody tr th:only-of-type {\n",
       "        vertical-align: middle;\n",
       "    }\n",
       "\n",
       "    .dataframe tbody tr th {\n",
       "        vertical-align: top;\n",
       "    }\n",
       "\n",
       "    .dataframe thead th {\n",
       "        text-align: right;\n",
       "    }\n",
       "</style>\n",
       "<table border=\"1\" class=\"dataframe\">\n",
       "  <thead>\n",
       "    <tr style=\"text-align: right;\">\n",
       "      <th></th>\n",
       "      <th>id</th>\n",
       "      <th>tweet</th>\n",
       "      <th>label</th>\n",
       "    </tr>\n",
       "  </thead>\n",
       "  <tbody>\n",
       "    <tr>\n",
       "      <th>0</th>\n",
       "      <td>1</td>\n",
       "      <td>cdc currently reports 99031 deaths general dis...</td>\n",
       "      <td>real</td>\n",
       "    </tr>\n",
       "    <tr>\n",
       "      <th>1</th>\n",
       "      <td>2</td>\n",
       "      <td>states reported 1121 deaths small rise last tu...</td>\n",
       "      <td>real</td>\n",
       "    </tr>\n",
       "    <tr>\n",
       "      <th>2</th>\n",
       "      <td>3</td>\n",
       "      <td>politically correct woman almost uses pandemic...</td>\n",
       "      <td>fake</td>\n",
       "    </tr>\n",
       "    <tr>\n",
       "      <th>3</th>\n",
       "      <td>4</td>\n",
       "      <td>indiafightscorona 1524 covid testing laborator...</td>\n",
       "      <td>real</td>\n",
       "    </tr>\n",
       "    <tr>\n",
       "      <th>4</th>\n",
       "      <td>5</td>\n",
       "      <td>populous states generate large case counts loo...</td>\n",
       "      <td>real</td>\n",
       "    </tr>\n",
       "  </tbody>\n",
       "</table>\n",
       "</div>"
      ],
      "text/plain": [
       "   id                                              tweet label\n",
       "0   1  cdc currently reports 99031 deaths general dis...  real\n",
       "1   2  states reported 1121 deaths small rise last tu...  real\n",
       "2   3  politically correct woman almost uses pandemic...  fake\n",
       "3   4  indiafightscorona 1524 covid testing laborator...  real\n",
       "4   5  populous states generate large case counts loo...  real"
      ]
     },
     "execution_count": 21,
     "metadata": {},
     "output_type": "execute_result"
    }
   ],
   "source": [
    "train.head(5)"
   ]
  },
  {
   "cell_type": "markdown",
   "id": "759089cd",
   "metadata": {},
   "source": [
    "### extract features from text"
   ]
  },
  {
   "cell_type": "code",
   "execution_count": 22,
   "id": "da85141e",
   "metadata": {},
   "outputs": [
    {
     "data": {
      "text/plain": [
       "<8560x16282 sparse matrix of type '<class 'numpy.float64'>'\n",
       "\twith 135248 stored elements in Compressed Sparse Row format>"
      ]
     },
     "execution_count": 22,
     "metadata": {},
     "output_type": "execute_result"
    }
   ],
   "source": [
    "from sklearn.feature_extraction.text import CountVectorizer, TfidfTransformer\n",
    "from sklearn.pipeline import make_pipeline\n",
    "pipeline = make_pipeline(CountVectorizer(),TfidfTransformer())\n",
    "pipeline.fit(train[\"tweet\"])\n",
    "x_train=pipeline.transform(train[\"tweet\"])\n",
    "x_test=pipeline.transform(test_with_labels[\"tweet\"])\n",
    "x_train"
   ]
  },
  {
   "cell_type": "markdown",
   "id": "7fba1869",
   "metadata": {},
   "source": [
    "### function for print metrics"
   ]
  },
  {
   "cell_type": "code",
   "execution_count": 23,
   "id": "2e8d99e2",
   "metadata": {},
   "outputs": [],
   "source": [
    "from sklearn.metrics import confusion_matrix,precision_score, recall_score,f1_score,accuracy_score\n",
    "def metrics(truelabel,predlabel):\n",
    "    print(\"Confusion_matrix : \",confusion_matrix(truelabel,predlabel))\n",
    "    print(\"Accuracy : \",accuracy_score(truelabel,predlabel))\n",
    "    print(\"Precison : \",precision_score(truelabel,predlabel, average = 'weighted'))\n",
    "    print(\"Recall : \",recall_score(truelabel,predlabel, average = 'weighted'))\n",
    "    print(\"F1 : \",f1_score(truelabel,predlabel, average = 'weighted'))"
   ]
  },
  {
   "cell_type": "code",
   "execution_count": 24,
   "id": "9629ba55",
   "metadata": {},
   "outputs": [],
   "source": [
    "import warnings\n",
    "warnings.filterwarnings('ignore')"
   ]
  },
  {
   "cell_type": "markdown",
   "id": "30412026",
   "metadata": {},
   "source": [
    "## SVM"
   ]
  },
  {
   "cell_type": "markdown",
   "id": "7083df22",
   "metadata": {},
   "source": [
    "### evaluate SVM model on test data before hyperparameter tuning"
   ]
  },
  {
   "cell_type": "code",
   "execution_count": 11,
   "id": "2b9d5c58",
   "metadata": {},
   "outputs": [
    {
     "name": "stdout",
     "output_type": "stream",
     "text": [
      "Confusion_matrix :  [[ 975   45]\n",
      " [  84 1036]]\n",
      "Accuracy :  0.9397196261682244\n",
      "Precison :  0.9404065362883206\n",
      "Recall :  0.9397196261682244\n",
      "F1 :  0.9397509659412703\n"
     ]
    }
   ],
   "source": [
    "from sklearn.svm import SVC\n",
    "svmmodel=SVC()\n",
    "svmmodel=svmmodel.fit(x_train,train[\"label\"])\n",
    "pred=svmmodel.predict(x_test)\n",
    "metrics(test_with_labels[\"label\"],pred)"
   ]
  },
  {
   "cell_type": "markdown",
   "id": "bc3c66e9",
   "metadata": {},
   "source": [
    "### tuning hyper parameters in SVM"
   ]
  },
  {
   "cell_type": "code",
   "execution_count": 104,
   "id": "f41be75e",
   "metadata": {},
   "outputs": [
    {
     "name": "stdout",
     "output_type": "stream",
     "text": [
      "Fitting 5 folds for each of 24 candidates, totalling 120 fits\n",
      "best hyper parameters are:  {'C': 1.0, 'kernel': 'linear'}\n",
      "best score is:  0.9404205607476636\n"
     ]
    }
   ],
   "source": [
    "from sklearn.model_selection import GridSearchCV\n",
    "\n",
    "param={'C' : [1000, 100, 10, 1.0, 0.1, 0.001],\n",
    "       'kernel' : ['linear', 'rbf', 'poly','sigmoid']\n",
    "      }\n",
    "grid=GridSearchCV(SVC(),param_grid=param,cv=5,n_jobs=-1,verbose=1,scoring=\"accuracy\")\n",
    "best_svmmodel=grid.fit(x_train,train[\"label\"])\n",
    "print(\"best hyper parameters are: \",best_svmmodel.best_params_)\n",
    "print(\"best score is: \",best_svmmodel.best_score_)"
   ]
  },
  {
   "cell_type": "markdown",
   "id": "a6fe21d8",
   "metadata": {},
   "source": [
    "### evaluate SVM model on test data after hyperparameter tuning"
   ]
  },
  {
   "cell_type": "code",
   "execution_count": 105,
   "id": "491b92fa",
   "metadata": {},
   "outputs": [
    {
     "name": "stdout",
     "output_type": "stream",
     "text": [
      "Confusion_matrix :  [[ 962   58]\n",
      " [  74 1046]]\n",
      "Accuracy :  0.9383177570093458\n",
      "Precison :  0.9384590081461273\n",
      "Recall :  0.9383177570093458\n",
      "F1 :  0.938335887165027\n"
     ]
    }
   ],
   "source": [
    "best_pred=best_svmmodel.predict(x_test)\n",
    "metrics(test_with_labels[\"label\"],best_pred)"
   ]
  },
  {
   "cell_type": "markdown",
   "id": "45dfb5c5",
   "metadata": {},
   "source": [
    "## Logistic Regression"
   ]
  },
  {
   "cell_type": "markdown",
   "id": "a3893247",
   "metadata": {},
   "source": [
    "### evaluate Logistic Regression model on test data before hyperparameter tuning"
   ]
  },
  {
   "cell_type": "code",
   "execution_count": 87,
   "id": "04e31080",
   "metadata": {},
   "outputs": [
    {
     "name": "stdout",
     "output_type": "stream",
     "text": [
      "Confusion_matrix :  [[ 956   64]\n",
      " [ 100 1020]]\n",
      "Accuracy :  0.9233644859813084\n",
      "Precison :  0.9239643129226535\n",
      "Recall :  0.9233644859813084\n",
      "F1 :  0.9234030758774813\n"
     ]
    }
   ],
   "source": [
    "from sklearn.linear_model import LogisticRegression\n",
    "lrmodel=LogisticRegression()\n",
    "lrmodel=lrmodel.fit(x_train,train[\"label\"])\n",
    "pred=lrmodel.predict(x_test)\n",
    "metrics(test_with_labels[\"label\"],pred)"
   ]
  },
  {
   "cell_type": "markdown",
   "id": "50a220e8",
   "metadata": {},
   "source": [
    "### tuning hyper parameters in Logistic Regression"
   ]
  },
  {
   "cell_type": "code",
   "execution_count": 91,
   "id": "3b5ad421",
   "metadata": {},
   "outputs": [
    {
     "name": "stdout",
     "output_type": "stream",
     "text": [
      "Fitting 5 folds for each of 100 candidates, totalling 500 fits\n",
      "best hyper parameters are:  {'C': 1.0, 'penalty': 'none', 'solver': 'saga'}\n",
      "best score is:  0.938785046728972\n"
     ]
    }
   ],
   "source": [
    "param={'solver' : ['newton-c', 'lbfgs', 'liblinear', 'sag', 'saga'],\n",
    "       'penalty' : ['none', 'l1', 'l2', 'elasticnet'],\n",
    "       'C' : [100, 10, 1.0, 0.1, 0.01]\n",
    "      }\n",
    "grid=GridSearchCV(LogisticRegression(),param_grid=param,cv=5,n_jobs=-1,verbose=1,scoring=\"accuracy\")\n",
    "best_lrmodel=grid.fit(x_train,train[\"label\"])\n",
    "print(\"best hyper parameters are: \",best_lrmodel.best_params_)\n",
    "print(\"best score is: \",best_lrmodel.best_score_)"
   ]
  },
  {
   "cell_type": "markdown",
   "id": "d69cc369",
   "metadata": {},
   "source": [
    "### evaluate Logistic Regression model on test data after hyperparameter tuning"
   ]
  },
  {
   "cell_type": "code",
   "execution_count": 93,
   "id": "e3096edc",
   "metadata": {},
   "outputs": [
    {
     "name": "stdout",
     "output_type": "stream",
     "text": [
      "Confusion_matrix :  [[ 946   74]\n",
      " [  69 1051]]\n",
      "Accuracy :  0.9331775700934579\n",
      "Precison :  0.9331724240238581\n",
      "Recall :  0.9331775700934579\n",
      "F1 :  0.9331698911616902\n"
     ]
    }
   ],
   "source": [
    "best_pred=best_lrmodel.predict(x_test)\n",
    "metrics(test_with_labels[\"label\"],best_pred)"
   ]
  },
  {
   "cell_type": "markdown",
   "id": "b88788f4",
   "metadata": {},
   "source": [
    "## Decision Tree"
   ]
  },
  {
   "cell_type": "markdown",
   "id": "c7dd076e",
   "metadata": {},
   "source": [
    "### evaluate Decision Tree model on test data before hyperparameter tuning"
   ]
  },
  {
   "cell_type": "code",
   "execution_count": 100,
   "id": "b25186d9",
   "metadata": {},
   "outputs": [
    {
     "name": "stdout",
     "output_type": "stream",
     "text": [
      "Confusion_matrix :  [[879 141]\n",
      " [123 997]]\n",
      "Accuracy :  0.8766355140186916\n",
      "Precison :  0.8766451624451769\n",
      "Recall :  0.8766355140186916\n",
      "F1 :  0.8765781235756938\n"
     ]
    }
   ],
   "source": [
    "from sklearn import tree\n",
    "dtmodel=tree.DecisionTreeClassifier()\n",
    "dtmodel=dtmodel.fit(x_train,train[\"label\"])\n",
    "pred=dtmodel.predict(x_test)\n",
    "metrics(test_with_labels[\"label\"],pred)"
   ]
  },
  {
   "cell_type": "markdown",
   "id": "b078fd50",
   "metadata": {},
   "source": [
    "### tuning hyper parameters in Decision tree"
   ]
  },
  {
   "cell_type": "code",
   "execution_count": 102,
   "id": "89639683",
   "metadata": {},
   "outputs": [
    {
     "name": "stdout",
     "output_type": "stream",
     "text": [
      "Fitting 5 folds for each of 522 candidates, totalling 2610 fits\n",
      "best hyper parameters are:  {'criterion': 'gini', 'max_depth': 28, 'min_samples_leaf': 1}\n",
      "best score is:  0.8711448598130842\n"
     ]
    }
   ],
   "source": [
    "param={'max_depth' : range(1,30),\n",
    "       'criterion' : [\"gini\",\"entropy\"],\n",
    "       'min_samples_leaf' : range(1,10)\n",
    "      }\n",
    "grid=GridSearchCV(tree.DecisionTreeClassifier(),param_grid=param,cv=5,n_jobs=-1,verbose=1,scoring=\"accuracy\")\n",
    "best_dtmodel=grid.fit(x_train,train[\"label\"])\n",
    "print(\"best hyper parameters are: \",best_dtmodel.best_params_)\n",
    "print(\"best score is: \",best_dtmodel.best_score_)"
   ]
  },
  {
   "cell_type": "markdown",
   "id": "93f832de",
   "metadata": {},
   "source": [
    "### evaluate Decision Tree model on test data after hyperparameter tuning"
   ]
  },
  {
   "cell_type": "code",
   "execution_count": 103,
   "id": "91fc982a",
   "metadata": {},
   "outputs": [
    {
     "name": "stdout",
     "output_type": "stream",
     "text": [
      "Confusion_matrix :  [[900 120]\n",
      " [154 966]]\n",
      "Accuracy :  0.8719626168224299\n",
      "Precison :  0.8725284279710915\n",
      "Recall :  0.8719626168224299\n",
      "F1 :  0.8720254147601684\n"
     ]
    }
   ],
   "source": [
    "best_pred=best_dtmodel.predict(x_test)\n",
    "metrics(test_with_labels[\"label\"],best_pred)"
   ]
  },
  {
   "cell_type": "markdown",
   "id": "99866769",
   "metadata": {},
   "source": [
    "# GradientBoosting"
   ]
  },
  {
   "cell_type": "markdown",
   "id": "44f63092",
   "metadata": {},
   "source": [
    "### evaluate GradientBoosting model on test data before hyperparameter tuning"
   ]
  },
  {
   "cell_type": "code",
   "execution_count": 19,
   "id": "62f773c9",
   "metadata": {},
   "outputs": [
    {
     "name": "stdout",
     "output_type": "stream",
     "text": [
      "Confusion_matrix :  [[924  96]\n",
      " [180 940]]\n",
      "Accuracy :  0.8710280373831776\n",
      "Precison :  0.8737905927056678\n",
      "Recall :  0.8710280373831776\n",
      "F1 :  0.8710658895990753\n"
     ]
    }
   ],
   "source": [
    "from sklearn.ensemble import GradientBoostingClassifier\n",
    "\n",
    "grBoostingClf=GradientBoostingClassifier()\n",
    "grBoostingClf.fit(x_train,train[\"label\"])\n",
    "pred=grBoostingClf.predict(x_test)\n",
    "metrics(test_with_labels[\"label\"],pred)"
   ]
  },
  {
   "cell_type": "markdown",
   "id": "3d0c9655",
   "metadata": {},
   "source": [
    "### tuning hyper parameters in GradientBoosting"
   ]
  },
  {
   "cell_type": "code",
   "execution_count": 18,
   "id": "a906b873",
   "metadata": {},
   "outputs": [
    {
     "name": "stdout",
     "output_type": "stream",
     "text": [
      "best hyper parameters are:  {'learning_rate': 0.1, 'n_estimators': 400}\n",
      "best score is:  0.9033878504672898\n"
     ]
    }
   ],
   "source": [
    "import numpy as np\n",
    "from sklearn.model_selection import GridSearchCV\n",
    "\n",
    "params = {\n",
    "    'learning_rate':[0.01,0.05,0.1],\n",
    "\n",
    "    'n_estimators':np.arange(100,500,100),\n",
    "}\n",
    "gradientBoosting = GradientBoostingClassifier()\n",
    "gradientoosting_gridSearch = GridSearchCV(gradientBoosting, params, cv = 4)\n",
    "best_gbmodel=gradientoosting_gridSearch.fit(x_train,train[\"label\"])\n",
    "\n",
    "print(\"best hyper parameters are: \",best_gbmodel.best_params_)\n",
    "print(\"best score is: \",best_gbmodel.best_score_)"
   ]
  },
  {
   "cell_type": "markdown",
   "id": "f6d03ed0",
   "metadata": {},
   "source": [
    "### evaluate GradientBoosting model on test data after hyperparameter tuning"
   ]
  },
  {
   "cell_type": "code",
   "execution_count": 20,
   "id": "22a9dae2",
   "metadata": {},
   "outputs": [
    {
     "name": "stdout",
     "output_type": "stream",
     "text": [
      "Confusion_matrix :  [[937  83]\n",
      " [125 995]]\n",
      "Accuracy :  0.902803738317757\n",
      "Precison :  0.9036026806500433\n",
      "Recall :  0.902803738317757\n",
      "F1 :  0.9028554773656248\n"
     ]
    }
   ],
   "source": [
    "best_pred=best_gbmodel.predict(x_test)\n",
    "metrics(test_with_labels[\"label\"],best_pred)"
   ]
  },
  {
   "cell_type": "markdown",
   "id": "885e7f03",
   "metadata": {},
   "source": [
    "## Multinomial Naive Bayes"
   ]
  },
  {
   "cell_type": "markdown",
   "id": "d088cee0",
   "metadata": {},
   "source": [
    "### evaluate Multinomial Naive Bayes model on test data before hyperparameter tuning"
   ]
  },
  {
   "cell_type": "code",
   "execution_count": 25,
   "id": "2ea71b0a",
   "metadata": {},
   "outputs": [
    {
     "name": "stdout",
     "output_type": "stream",
     "text": [
      "Confusion_matrix :  [[ 892  128]\n",
      " [  54 1066]]\n",
      "Accuracy :  0.9149532710280374\n",
      "Precison :  0.9166864003948798\n",
      "Recall :  0.9149532710280374\n",
      "F1 :  0.9147125623684118\n"
     ]
    }
   ],
   "source": [
    "from sklearn.naive_bayes import MultinomialNB\n",
    "mnb=MultinomialNB()\n",
    "mnb.fit(x_train,train[\"label\"])\n",
    "pred=mnb.predict(x_test)\n",
    "metrics(test_with_labels[\"label\"],pred)"
   ]
  },
  {
   "cell_type": "markdown",
   "id": "e7ca7c37",
   "metadata": {},
   "source": [
    "### tuning hyper parameters in Multinomial Naive Bayes"
   ]
  },
  {
   "cell_type": "code",
   "execution_count": 30,
   "id": "2faccf3a",
   "metadata": {},
   "outputs": [
    {
     "name": "stdout",
     "output_type": "stream",
     "text": [
      "Fitting 5 folds for each of 6 candidates, totalling 30 fits\n",
      "best hyper parameters are:  {'alpha': 0.1}\n",
      "best score is:  0.9232476635514019\n"
     ]
    }
   ],
   "source": [
    "from sklearn.model_selection import GridSearchCV\n",
    "param={\n",
    "    'alpha': [1, 0.1, 0.01, 0.001, 0.0001, 0.00001]\n",
    "      }\n",
    "grid=GridSearchCV(MultinomialNB(),param_grid=param,cv=5,n_jobs=-1,verbose=1,scoring=\"accuracy\")\n",
    "best_mnbmodel=grid.fit(x_train,train[\"label\"])\n",
    "print(\"best hyper parameters are: \",best_mnbmodel.best_params_)\n",
    "print(\"best score is: \",best_mnbmodel.best_score_)"
   ]
  },
  {
   "cell_type": "markdown",
   "id": "30f729a0",
   "metadata": {},
   "source": [
    "### evaluate Multinomial Naive Bayes model on test data after hyperparameter tuning"
   ]
  },
  {
   "cell_type": "code",
   "execution_count": 31,
   "id": "fc1c1292",
   "metadata": {},
   "outputs": [
    {
     "name": "stdout",
     "output_type": "stream",
     "text": [
      "Confusion_matrix :  [[ 927   93]\n",
      " [  66 1054]]\n",
      "Accuracy :  0.9257009345794392\n",
      "Precison :  0.9258853398390909\n",
      "Recall :  0.9257009345794392\n",
      "F1 :  0.9256451061332132\n"
     ]
    }
   ],
   "source": [
    "best_pred=best_mnbmodel.predict(x_test)\n",
    "metrics(test_with_labels[\"label\"],best_pred)"
   ]
  },
  {
   "cell_type": "code",
   "execution_count": null,
   "id": "593fa9e6",
   "metadata": {},
   "outputs": [],
   "source": []
  }
 ],
 "metadata": {
  "kernelspec": {
   "display_name": "Python 3 (ipykernel)",
   "language": "python",
   "name": "python3"
  },
  "language_info": {
   "codemirror_mode": {
    "name": "ipython",
    "version": 3
   },
   "file_extension": ".py",
   "mimetype": "text/x-python",
   "name": "python",
   "nbconvert_exporter": "python",
   "pygments_lexer": "ipython3",
   "version": "3.9.7"
  }
 },
 "nbformat": 4,
 "nbformat_minor": 5
}
